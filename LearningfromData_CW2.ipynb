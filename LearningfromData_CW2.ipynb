{
 "cells": [
  {
   "cell_type": "markdown",
   "metadata": {},
   "source": [
    "# Task 1"
   ]
  },
  {
   "cell_type": "markdown",
   "metadata": {},
   "source": [
    "Implement a user-defined distance function: Use “distance_cw2” as the function name. The function should calculate the distance between two give instances/records. The function takes two one-dimensional numpy arrays and returns a distance.\n",
    "def distance_cw2(x, y):\n",
    "Your function will calculate the Euclidean distance using m random attributes each time it is called. Use m=3."
   ]
  },
  {
   "cell_type": "code",
   "execution_count": 34,
   "metadata": {},
   "outputs": [],
   "source": [
    "# Import the libraries\n",
    "\n",
    "import pandas as pd\n",
    "import seaborn as sns\n",
    "import matplotlib.pyplot as plt\n",
    "import numpy as np\n",
    "%matplotlib inline"
   ]
  },
  {
   "cell_type": "code",
   "execution_count": 35,
   "metadata": {},
   "outputs": [],
   "source": [
    "#Import the dataset\n",
    "\n",
    "df = pd.read_csv(\"task1_diabetes.txt\")\n",
    "x_data = df.iloc[:,:-1]\n",
    "y_data = df.iloc[:,-1]"
   ]
  },
  {
   "cell_type": "code",
   "execution_count": 36,
   "metadata": {},
   "outputs": [
    {
     "data": {
      "text/html": [
       "<div>\n",
       "<style scoped>\n",
       "    .dataframe tbody tr th:only-of-type {\n",
       "        vertical-align: middle;\n",
       "    }\n",
       "\n",
       "    .dataframe tbody tr th {\n",
       "        vertical-align: top;\n",
       "    }\n",
       "\n",
       "    .dataframe thead th {\n",
       "        text-align: right;\n",
       "    }\n",
       "</style>\n",
       "<table border=\"1\" class=\"dataframe\">\n",
       "  <thead>\n",
       "    <tr style=\"text-align: right;\">\n",
       "      <th></th>\n",
       "      <th>preg</th>\n",
       "      <th>plas</th>\n",
       "      <th>pres</th>\n",
       "      <th>skin</th>\n",
       "      <th>insu</th>\n",
       "      <th>mass</th>\n",
       "      <th>pedi</th>\n",
       "      <th>age</th>\n",
       "    </tr>\n",
       "  </thead>\n",
       "  <tbody>\n",
       "    <tr>\n",
       "      <th>0</th>\n",
       "      <td>0.639947</td>\n",
       "      <td>0.848324</td>\n",
       "      <td>0.149641</td>\n",
       "      <td>0.907270</td>\n",
       "      <td>-0.692891</td>\n",
       "      <td>0.204013</td>\n",
       "      <td>0.468492</td>\n",
       "      <td>1.425995</td>\n",
       "    </tr>\n",
       "    <tr>\n",
       "      <th>1</th>\n",
       "      <td>-0.844885</td>\n",
       "      <td>-1.123396</td>\n",
       "      <td>-0.160546</td>\n",
       "      <td>0.530902</td>\n",
       "      <td>-0.692891</td>\n",
       "      <td>-0.684422</td>\n",
       "      <td>-0.365061</td>\n",
       "      <td>-0.190672</td>\n",
       "    </tr>\n",
       "    <tr>\n",
       "      <th>2</th>\n",
       "      <td>1.233880</td>\n",
       "      <td>1.943724</td>\n",
       "      <td>-0.263941</td>\n",
       "      <td>-1.288212</td>\n",
       "      <td>-0.692891</td>\n",
       "      <td>-1.103255</td>\n",
       "      <td>0.604397</td>\n",
       "      <td>-0.105584</td>\n",
       "    </tr>\n",
       "    <tr>\n",
       "      <th>3</th>\n",
       "      <td>-0.844885</td>\n",
       "      <td>-0.998208</td>\n",
       "      <td>-0.160546</td>\n",
       "      <td>0.154533</td>\n",
       "      <td>0.123302</td>\n",
       "      <td>-0.494043</td>\n",
       "      <td>-0.920763</td>\n",
       "      <td>-1.041549</td>\n",
       "    </tr>\n",
       "    <tr>\n",
       "      <th>4</th>\n",
       "      <td>-1.141852</td>\n",
       "      <td>0.504055</td>\n",
       "      <td>-1.504687</td>\n",
       "      <td>0.907270</td>\n",
       "      <td>0.765836</td>\n",
       "      <td>1.409746</td>\n",
       "      <td>5.484909</td>\n",
       "      <td>-0.020496</td>\n",
       "    </tr>\n",
       "  </tbody>\n",
       "</table>\n",
       "</div>"
      ],
      "text/plain": [
       "       preg      plas      pres      skin      insu      mass      pedi  \\\n",
       "0  0.639947  0.848324  0.149641  0.907270 -0.692891  0.204013  0.468492   \n",
       "1 -0.844885 -1.123396 -0.160546  0.530902 -0.692891 -0.684422 -0.365061   \n",
       "2  1.233880  1.943724 -0.263941 -1.288212 -0.692891 -1.103255  0.604397   \n",
       "3 -0.844885 -0.998208 -0.160546  0.154533  0.123302 -0.494043 -0.920763   \n",
       "4 -1.141852  0.504055 -1.504687  0.907270  0.765836  1.409746  5.484909   \n",
       "\n",
       "        age  \n",
       "0  1.425995  \n",
       "1 -0.190672  \n",
       "2 -0.105584  \n",
       "3 -1.041549  \n",
       "4 -0.020496  "
      ]
     },
     "execution_count": 36,
     "metadata": {},
     "output_type": "execute_result"
    }
   ],
   "source": [
    "from sklearn.preprocessing import StandardScaler\n",
    "scaler = StandardScaler()\n",
    "# train the scaler on the diabetes data\n",
    "scaler.fit(df.drop('class',axis=1))\n",
    "\n",
    "# scale the diabetes data\n",
    "scaled_features = scaler.transform(df.drop('class',axis=1))\n",
    "df_feat = pd.DataFrame(scaled_features,columns=df.columns[:-1])\n",
    "df_feat.head()"
   ]
  },
  {
   "cell_type": "code",
   "execution_count": 37,
   "metadata": {},
   "outputs": [],
   "source": [
    "from sklearn.model_selection import train_test_split\n",
    "\n",
    "# Split the dataset into training and test with 30% as test data\n",
    "X_train, X_test, y_train, y_test = train_test_split(scaled_features,df['class'], test_size=0.30)"
   ]
  },
  {
   "cell_type": "code",
   "execution_count": 38,
   "metadata": {},
   "outputs": [],
   "source": [
    "import math\n",
    "import random\n",
    "\n",
    "# User defined Euclidean distance function\n",
    "def distance_cw2(x,y):\n",
    "    m=3\n",
    "    attribute = random.sample(range(len(x)), m)\n",
    "    x = x[attribute]\n",
    "    y = y[attribute]\n",
    "    s = 0\n",
    "    for a,b in zip(x,y):\n",
    "        s += (a-b)**2\n",
    "    return math.sqrt(s)"
   ]
  },
  {
   "cell_type": "markdown",
   "metadata": {},
   "source": [
    "Use KNeighborsClassifier to evaluate the performance of your function against the following built-in distance functions:\n",
    "\n",
    "o Euclidean\n",
    "o Manhattan\n",
    "o Chebyshev"
   ]
  },
  {
   "cell_type": "code",
   "execution_count": 39,
   "metadata": {},
   "outputs": [],
   "source": [
    "from sklearn.neighbors import KNeighborsClassifier\n",
    "\n",
    "# Creating the classifier for all 4(euclidean, manhattan, chebyshev, distance_cw2) distance functions\n",
    "\n",
    "knn1 = KNeighborsClassifier(n_neighbors=10, metric='euclidean')\n",
    "knn2 = KNeighborsClassifier(n_neighbors=10, metric='manhattan')\n",
    "knn3 = KNeighborsClassifier(n_neighbors=10, metric='chebyshev')\n",
    "knn4 = KNeighborsClassifier(n_neighbors=10, algorithm='auto', metric= lambda a, b: distance_cw2(a, b))\n",
    "\n",
    "# Training the data for all 4((euclidean, manhattan, chebyshev, distance_cw2)) distance functions\n",
    "\n",
    "knn1.fit(X_train,y_train)\n",
    "knn2.fit(X_train,y_train)\n",
    "knn3.fit(X_train,y_train)\n",
    "knn4.fit(X_train,y_train)\n",
    "\n",
    "pred1 = knn1.predict(X_test)\n",
    "pred2 = knn2.predict(X_test)\n",
    "pred3 = knn3.predict(X_test)\n",
    "pred4 = knn4.predict(X_test)"
   ]
  },
  {
   "cell_type": "code",
   "execution_count": 40,
   "metadata": {},
   "outputs": [
    {
     "name": "stdout",
     "output_type": "stream",
     "text": [
      "The confusion matrix for KNN using 'Euclidean distance' is \n",
      " [[138  14]\n",
      " [ 47  32]]\n",
      "\n",
      "The accuracy score is :  0.7359307359307359\n"
     ]
    }
   ],
   "source": [
    "from sklearn.metrics import confusion_matrix, accuracy_score\n",
    "# Calculating the accuracy score and confusion matrix for KNN using \"Eucledian\" distance function\n",
    "\n",
    "print(\"The confusion matrix for KNN using 'Euclidean distance' is \\n\", confusion_matrix(y_test,pred1))\n",
    "print(\"\\nThe accuracy score is : \", accuracy_score(y_test, pred1))"
   ]
  },
  {
   "cell_type": "code",
   "execution_count": 41,
   "metadata": {},
   "outputs": [
    {
     "name": "stdout",
     "output_type": "stream",
     "text": [
      "The confusion matrix for KNN using 'Manhattan distance' is \n",
      " [[138  14]\n",
      " [ 45  34]]\n",
      "\n",
      "The accuracy score is :  0.7445887445887446\n"
     ]
    }
   ],
   "source": [
    "# Calculating the accuracy score and confusion matrix for KNN using \"Manhattan\" distance function\n",
    "\n",
    "print(\"The confusion matrix for KNN using 'Manhattan distance' is \\n\", confusion_matrix(y_test,pred2))\n",
    "print(\"\\nThe accuracy score is : \", accuracy_score(y_test, pred2))"
   ]
  },
  {
   "cell_type": "code",
   "execution_count": 42,
   "metadata": {},
   "outputs": [
    {
     "name": "stdout",
     "output_type": "stream",
     "text": [
      "The confusion matrix for KNN using 'Chebyshev distance' is \n",
      " [[139  13]\n",
      " [ 51  28]]\n",
      "\n",
      "The accuracy score is :  0.7229437229437229\n"
     ]
    }
   ],
   "source": [
    "# Calculating the accuracy score and confusion matrix for KNN using \"Chebyshev\" distance function\n",
    "\n",
    "print(\"The confusion matrix for KNN using 'Chebyshev distance' is \\n\", confusion_matrix(y_test,pred3))\n",
    "print(\"\\nThe accuracy score is : \", accuracy_score(y_test, pred3))"
   ]
  },
  {
   "cell_type": "code",
   "execution_count": 43,
   "metadata": {},
   "outputs": [
    {
     "name": "stdout",
     "output_type": "stream",
     "text": [
      "The confusion matrix for KNN using 'distance_cw2 distance' is \n",
      " [[143   9]\n",
      " [ 66  13]]\n",
      "\n",
      "The accuracy score is :  0.6753246753246753\n"
     ]
    }
   ],
   "source": [
    "# Calculating the accuracy score and confusion matrix for KNN using \"distance_cw2\" distance function\n",
    "\n",
    "print(\"The confusion matrix for KNN using 'distance_cw2 distance' is \\n\", confusion_matrix(y_test,pred4))\n",
    "print(\"\\nThe accuracy score is : \", accuracy_score(y_test, pred4))"
   ]
  },
  {
   "cell_type": "markdown",
   "metadata": {},
   "source": [
    "You should use n-fold cross-validation (where n=10). Show the results for each fold, the overall average and \n",
    "the standard deviation using relevant evaluation measures. You are expected to use sklearn.model_selection.KFold \n",
    "(i.e. don’t use cross_validate)."
   ]
  },
  {
   "cell_type": "code",
   "execution_count": 11,
   "metadata": {},
   "outputs": [],
   "source": [
    "from sklearn.neighbors import KNeighborsClassifier\n",
    "from sklearn.metrics import accuracy_score\n",
    "from sklearn.model_selection import KFold\n",
    "\n",
    "# Making 10 splits using KFold\n",
    "kfold= KFold(n_splits=10)"
   ]
  },
  {
   "cell_type": "code",
   "execution_count": 12,
   "metadata": {},
   "outputs": [
    {
     "name": "stdout",
     "output_type": "stream",
     "text": [
      "The average accuracy after 10 fold experiments for neighbor 1, 3 ,5 and 7 using euclidean are respectively\n",
      "0.708321941216678 \n",
      " 0.7460526315789474 \n",
      " 0.7421394395078604 \n",
      " 0.7421394395078604\n",
      "\n",
      "The average standard deviation after 10 fold experiments for neighbor 1, 3 ,5 and 7 using euclidean are respectively\n",
      "0.05432698487217694 \n",
      " 0.06596922873532288 \n",
      " 0.0714995461187472 \n",
      " 0.06836419076345646\n"
     ]
    }
   ],
   "source": [
    "# KNN using built-in function: Eucledian\n",
    "d_accuracy1 = {}\n",
    "avg1 = {}\n",
    "std1 = {}\n",
    "\n",
    "# Running the first loop for different k values of 1, 3, 5 and 7\n",
    "\n",
    "for i in (1,3,5,7):\n",
    "    accuracy1 = []\n",
    "    \n",
    "    # Running the second loop for the 10 splits for each k value\n",
    "    \n",
    "    for train_index, test_index in kfold.split(df_feat):\n",
    "        # Spilitting the data as per train and test indexes\n",
    "        X_train, X_test = scaled_features[train_index], scaled_features[test_index]\n",
    "        y_train, y_test = y_data[train_index], y_data[test_index]\n",
    "        knn = KNeighborsClassifier(n_neighbors=i , metric='euclidean')\n",
    "        knn.fit(X_train, y_train)\n",
    "        pred = knn.predict(X_test)\n",
    "        accuracy1.append(accuracy_score(y_test, pred))\n",
    "    d_accuracy1[i] = accuracy1\n",
    "    # mean of the accuracy results for 10 splits and one k value\n",
    "    avg1[i] = np.mean(accuracy1)\n",
    "    \n",
    "    # Standard Deviation of the accuracy results for 10 splits and one k value\n",
    "    std1[i] = np.std(accuracy1)\n",
    "    \n",
    "\n",
    "print(\"The average accuracy after 10 fold experiments for neighbor 1, 3 ,5 and 7 using euclidean are respectively\")\n",
    "print(avg1[1], \"\\n\" , avg1[3], \"\\n\", avg1[5], \"\\n\", avg1[7])\n",
    "print(\"\\nThe average standard deviation after 10 fold experiments for neighbor 1, 3 ,5 and 7 using euclidean are respectively\")\n",
    "print(std1[1], \"\\n\" , std1[3], \"\\n\", std1[5], \"\\n\", std1[7])"
   ]
  },
  {
   "cell_type": "code",
   "execution_count": null,
   "metadata": {},
   "outputs": [],
   "source": []
  },
  {
   "cell_type": "code",
   "execution_count": 13,
   "metadata": {},
   "outputs": [
    {
     "name": "stdout",
     "output_type": "stream",
     "text": [
      "The average accuracy after 10 fold experiments for neighbor 1, 3 ,5 and 7 using euclidean are respectively\n",
      "0.6940704032809297 \n",
      " 0.7213943950786057 \n",
      " 0.7329630895420369 \n",
      " 0.7395078605604921\n",
      "\n",
      "The average standard deviation after 10 fold experiments for neighbor 1, 3 ,5 and 7 using euclidean are respectively\n",
      "0.04287954308905264 \n",
      " 0.0690989763077722 \n",
      " 0.06550100760458857 \n",
      " 0.07259378536812883\n"
     ]
    }
   ],
   "source": [
    "# KNN using built-in function: manhattan\n",
    "d_accuracy2 = {}\n",
    "avg2 = {}\n",
    "std2 = {}\n",
    "\n",
    "# Running the first loop for different k values of 1, 3, 5 and 7\n",
    "\n",
    "for i in (1,3,5,7):\n",
    "    accuracy2 = []\n",
    "    \n",
    "    # Running the second loop for the 10 splits for each k value\n",
    "    \n",
    "    for train_index, test_index in kfold.split(df_feat):\n",
    "        # Spilitting the data as per train and test indexes\n",
    "        X_train, X_test = scaled_features[train_index], scaled_features[test_index]\n",
    "        y_train, y_test = y_data[train_index], y_data[test_index]\n",
    "        knn = KNeighborsClassifier(n_neighbors=i, metric='manhattan')\n",
    "        knn.fit(X_train, y_train)\n",
    "        pred = knn.predict(X_test)\n",
    "        accuracy2.append(accuracy_score(y_test, pred))\n",
    "    d_accuracy2[i] = accuracy2\n",
    "    # mean of the accuracy results for 10 splits and one k value\n",
    "    avg2[i] = np.mean(accuracy2)\n",
    "    # Standard Deviation of the accuracy results for 10 splits and one k value\n",
    "    std2[i] = np.std(accuracy2)\n",
    "    \n",
    "print(\"The average accuracy after 10 fold experiments for neighbor 1, 3 ,5 and 7 using euclidean are respectively\")\n",
    "print(avg2[1], \"\\n\" , avg2[3], \"\\n\", avg2[5], \"\\n\", avg2[7])\n",
    "print(\"\\nThe average standard deviation after 10 fold experiments for neighbor 1, 3 ,5 and 7 using euclidean are respectively\")\n",
    "print(std2[1], \"\\n\" , std2[3], \"\\n\", std2[5], \"\\n\", std2[7])\n"
   ]
  },
  {
   "cell_type": "code",
   "execution_count": 14,
   "metadata": {},
   "outputs": [
    {
     "data": {
      "text/plain": [
       "{1: 0.6940704032809297,\n",
       " 3: 0.7213943950786057,\n",
       " 5: 0.7329630895420369,\n",
       " 7: 0.7395078605604921}"
      ]
     },
     "execution_count": 14,
     "metadata": {},
     "output_type": "execute_result"
    }
   ],
   "source": [
    "avg2"
   ]
  },
  {
   "cell_type": "code",
   "execution_count": 15,
   "metadata": {},
   "outputs": [
    {
     "name": "stdout",
     "output_type": "stream",
     "text": [
      "The average accuracy after 10 fold experiments for neighbor 1, 3 ,5 and 7 using euclidean are respectively\n",
      "0.6940362269309638 \n",
      " 0.7356117566643883 \n",
      " 0.7369958988380042 \n",
      " 0.7330656185919343\n",
      "\n",
      "The average standard deviation after 10 fold experiments for neighbor 1, 3 ,5 and 7 using euclidean are respectively\n",
      "0.04855599734500574 \n",
      " 0.05664712222733842 \n",
      " 0.06737069929295829 \n",
      " 0.06450972552110787\n",
      "{1: 0.6940362269309638, 3: 0.7356117566643883, 5: 0.7369958988380042, 7: 0.7330656185919343}\n"
     ]
    }
   ],
   "source": [
    "# KNN using built-in function: chebyshev\n",
    "d_accuracy3 = {}\n",
    "avg3 = {}\n",
    "std3 = {}\n",
    "\n",
    "# Running the first loop for different k values of 1, 3, 5 and 7\n",
    "\n",
    "for i in (1,3,5,7):\n",
    "    accuracy3 = []\n",
    "    \n",
    "    # Running the second loop for the 10 splits for each k value\n",
    "    \n",
    "    for train_index, test_index in kfold.split(df_feat):\n",
    "        # Spilitting the data as per train and test indexes\n",
    "        X_train, X_test = scaled_features[train_index], scaled_features[test_index]\n",
    "        y_train, y_test = y_data[train_index], y_data[test_index]\n",
    "        knn = KNeighborsClassifier(n_neighbors=i, metric='chebyshev')\n",
    "        knn.fit(X_train, y_train)\n",
    "        pred = knn.predict(X_test)\n",
    "        accuracy3.append(accuracy_score(y_test, pred))\n",
    "    d_accuracy3[i] = accuracy3\n",
    "    # mean of the accuracy results for 10 splits and one k value\n",
    "    avg3[i] = np.mean(accuracy3)\n",
    "    # Stanadard Deviation of the accuracy results for 10 splits and one k value\n",
    "    std3[i] = np.std(accuracy3)\n",
    "    \n",
    "print(\"The average accuracy after 10 fold experiments for neighbor 1, 3 ,5 and 7 using euclidean are respectively\")\n",
    "print(avg3[1], \"\\n\" , avg3[3], \"\\n\", avg3[5], \"\\n\", avg3[7])\n",
    "print(\"\\nThe average standard deviation after 10 fold experiments for neighbor 1, 3 ,5 and 7 using euclidean are respectively\")\n",
    "print(std3[1], \"\\n\" , std3[3], \"\\n\", std3[5], \"\\n\", std3[7])\n",
    "print(avg3)"
   ]
  },
  {
   "cell_type": "code",
   "execution_count": 16,
   "metadata": {},
   "outputs": [
    {
     "name": "stdout",
     "output_type": "stream",
     "text": [
      "The average accuracy after 10 fold experiments for neighbor 1, 3 ,5 and 7 using euclidean are respectively\n",
      "0.6979152426520848 \n",
      " 0.6770505809979495 \n",
      " 0.6874743677375257 \n",
      " 0.6574846206425152\n",
      "\n",
      "The average standard deviation after 10 fold experiments for neighbor 1, 3 ,5 and 7 using euclidean are respectively\n",
      "0.050215328566303605 \n",
      " 0.053678766685313975 \n",
      " 0.05430128645417109 \n",
      " 0.07356605997221692\n"
     ]
    }
   ],
   "source": [
    "# KNN using defined function: distance_cw2\n",
    "d_accuracy4 = {}\n",
    "avg4 = {}\n",
    "std4 = {}\n",
    "\n",
    "# Running the first loop for different k values of 1, 3, 5 and 7\n",
    "\n",
    "for i in (1,3,5,7):\n",
    "    accuracy4 = []\n",
    "    \n",
    "    # Running the second loop for the 10 splits for each k value\n",
    "    \n",
    "    for train_index, test_index in kfold.split(df_feat):\n",
    "        # Spilitting the data as per train and test indexes\n",
    "        X_train, X_test = scaled_features[train_index], scaled_features[test_index]\n",
    "        y_train, y_test = y_data[train_index], y_data[test_index]\n",
    "        knn = KNeighborsClassifier(n_neighbors=10, algorithm='auto', metric= lambda a, b: distance_cw2(a, b))\n",
    "        knn.fit(X_train, y_train)\n",
    "        pred = knn.predict(X_test)\n",
    "        accuracy4.append(accuracy_score(y_test, pred))\n",
    "    d_accuracy4[i] = accuracy4\n",
    "    # mean of the accuracy results for 10 splits and one k value\n",
    "    avg4[i] = np.mean(accuracy4)\n",
    "    # Stanadard Deviation of the accuracy results for 10 splits and one k value\n",
    "    std4[i] = np.std(accuracy4)\n",
    "    \n",
    "print(\"The average accuracy after 10 fold experiments for neighbor 1, 3 ,5 and 7 using euclidean are respectively\")\n",
    "print(avg4[1], \"\\n\" , avg4[3], \"\\n\", avg4[5], \"\\n\", avg4[7])\n",
    "print(\"\\nThe average standard deviation after 10 fold experiments for neighbor 1, 3 ,5 and 7 using euclidean are respectively\")\n",
    "print(std4[1], \"\\n\" , std4[3], \"\\n\", std4[5], \"\\n\", std4[7])"
   ]
  },
  {
   "cell_type": "code",
   "execution_count": 17,
   "metadata": {},
   "outputs": [
    {
     "name": "stdout",
     "output_type": "stream",
     "text": [
      "   eucledian  manhattan  chebyshev  distance_cw2\n",
      "1   0.708322   0.694070   0.694036      0.697915\n",
      "3   0.746053   0.721394   0.735612      0.677051\n",
      "5   0.742139   0.732963   0.736996      0.687474\n",
      "7   0.742139   0.739508   0.733066      0.657485\n"
     ]
    }
   ],
   "source": [
    "d = {'eucledian': avg1, 'manhattan': avg2, 'chebyshev': avg3, 'distance_cw2': avg4}\n",
    "df = pd.DataFrame(d, index = (1,3,5,7)) \n",
    "print(df)"
   ]
  },
  {
   "cell_type": "code",
   "execution_count": 33,
   "metadata": {},
   "outputs": [
    {
     "data": {
      "image/png": "[encoded data removed]",
      "text/plain": [
       "<Figure size 1080x504 with 1 Axes>"
      ]
     },
     "metadata": {
      "needs_background": "light"
     },
     "output_type": "display_data"
    }
   ],
   "source": [
    "import matplotlib.pyplot as plt\n",
    "\n",
    "fig, axes = plt.subplots(figsize=(15,7)\n",
    "                         \n",
    "axes.plot((1,3,5,7), df['eucledian'], label = 'eucledian', marker = 'o')\n",
    "axes.plot((1,3,5,7), df['manhattan'], label = 'manhattan', marker = 'o')\n",
    "axes.plot((1,3,5,7), df['chebyshev'], label = 'chebyshev', marker = 'o')\n",
    "axes.plot((1,3,5,7), df['distance_cw2'], label = 'distance_cw2', marker = 'o')\n",
    "plt.xlabel('k value')\n",
    "plt.ylabel('accuracy')\n",
    "plt.legend()\n",
    "plt.show()"
   ]
  },
  {
   "cell_type": "code",
   "execution_count": null,
   "metadata": {},
   "outputs": [],
   "source": []
  },
  {
   "cell_type": "markdown",
   "metadata": {},
   "source": [
    "   ## Taks 2\n",
    "   In this task you are expected to compare the performance of KNN, Decision Tress (DT) and Neural Networks (TT) when dealing with noisy data.\n",
    "   "
   ]
  },
  {
   "cell_type": "raw",
   "metadata": {},
   "source": [
    "• Generate noisy versions of the “task2_train.txt” dataset by randomly changing from the correct class label to wrong ones from 0%-30% of the training instances (in increments of 2%). Evaluate the performance of KNN, DT and NN on the uncorrupted testing set (“task2_test.txt”). Repeat the experiment 50 times (i.e. using different random_state when generating the noise. Don’t change the random_state for the algorithms)."
   ]
  },
  {
   "cell_type": "code",
   "execution_count": 20,
   "metadata": {},
   "outputs": [],
   "source": [
    "import pandas as pd\n",
    "import seaborn as sns\n",
    "import matplotlib.pyplot as plt\n",
    "import numpy as np\n",
    "%matplotlib inline"
   ]
  },
  {
   "cell_type": "code",
   "execution_count": 21,
   "metadata": {},
   "outputs": [],
   "source": [
    "from sklearn.preprocessing import StandardScaler\n",
    "\n",
    "# Import the training and test datasets\n",
    "\n",
    "df_train = pd.read_csv(\"task2_train.txt\")\n",
    "df_test = pd.read_csv(\"task2_test.txt\")\n",
    "\n",
    "# Standardadising the data with standardscaler \n",
    "\n",
    "scaler = StandardScaler()\n",
    "scaler.fit(df_train.drop('class',axis=1))\n",
    "scaled_features = scaler.transform(df_train.drop('class',axis=1))\n",
    "X_train = pd.DataFrame(scaled_features,columns=df_train.columns[:-1])\n",
    "y_train = df_train.iloc[:,-1]\n",
    "\n",
    "scaler = StandardScaler()\n",
    "scaler.fit(df_test.drop('class',axis=1))\n",
    "scaled_features = scaler.transform(df_test.drop('class',axis=1))\n",
    "X_test = pd.DataFrame(scaled_features,columns=df_test.columns[:-1])\n",
    "y_test = df_test.iloc[:,-1]\n"
   ]
  },
  {
   "cell_type": "code",
   "execution_count": 23,
   "metadata": {},
   "outputs": [],
   "source": [
    "from sklearn.neighbors import KNeighborsClassifier\n",
    "from sklearn.tree import DecisionTreeClassifier\n",
    "from sklearn.neural_network import MLPClassifier\n",
    "from sklearn import metrics\n",
    "\n",
    "per = 0\n",
    "lst = []\n",
    "avgknn = {}\n",
    "avgdt = {}\n",
    "avgnn = {}\n",
    "\n",
    "# Loop to extract the number of roows where to create noise randing from 0 to 30% with an increment of 2%\n",
    "\n",
    "for i in range(16):\n",
    "    num = int(len(X_train) * (per/100))\n",
    "    per +=2\n",
    "    lst.append(num)\n",
    "\n",
    "# Loop to make noise for the respective percentage from 0% to 30%\n",
    "    \n",
    "for j in lst:\n",
    "    lstknn  = []\n",
    "    lstdt = []\n",
    "    lstnn = []\n",
    "    \n",
    "    # Loop to run the experiement 50 times\n",
    "    \n",
    "    for k in range(50): \n",
    "        # Copying the training data where we would create noise\n",
    "        traindata = y_train.copy()\n",
    "        np.random.seed(k)\n",
    "        # Extracting the random indexes where we need to create noise\n",
    "        rand = np.random.randint(len(traindata), size = j)\n",
    "        # Reverting the labels in the data from 0 to 1 and from 1 to 0\n",
    "        traindata[rand] = 1 - traindata[rand]  \n",
    "        \n",
    "        # Creating the KNN classifier with 5 neighbors and \"distance\" weight paramenters\n",
    "        knn = KNeighborsClassifier(n_neighbors=5, weights='distance')\n",
    "        # Training the data\n",
    "        knn.fit(X_train,traindata)\n",
    "        pred = knn.predict(X_test)\n",
    "        # Storing the accuracy score for all 50 experiments\n",
    "        lstknn.append(metrics.accuracy_score(y_test, pred))\n",
    "\n",
    "        # Creating the DecisionTreeClassifier\n",
    "        classifier_model = DecisionTreeClassifier()\n",
    "        # Training the data\n",
    "        classifier_model = classifier_model.fit(X_train, traindata)\n",
    "        pred = classifier_model.predict(X_test)\n",
    "         # Storing the accuracy score for all 50 experiments\n",
    "        lstdt.append(metrics.accuracy_score(y_test, pred))\n",
    "\n",
    "        # Creating the MLP classifier\n",
    "        clf = MLPClassifier(hidden_layer_sizes=(8,3), max_iter = 2000)\n",
    "        clf.fit(X_train,traindata)\n",
    "         # Storing the accuracy score for all 50 experiments\n",
    "        lstnn.append(metrics.accuracy_score(y_test, clf.predict(X_test)))\n",
    "        \n",
    "    avgknn[j] = np.mean(lstknn)\n",
    "    avgdt[j] = np.mean(lstdt)\n",
    "    avgnn[j] = np.mean(lstnn)"
   ]
  },
  {
   "cell_type": "code",
   "execution_count": 24,
   "metadata": {},
   "outputs": [
    {
     "name": "stdout",
     "output_type": "stream",
     "text": [
      "         KNN        DT        NN\n",
      "0   0.593220  0.713220  0.660678\n",
      "2   0.595932  0.668814  0.678644\n",
      "4   0.591864  0.642034  0.666780\n",
      "6   0.592203  0.636610  0.663390\n",
      "8   0.590508  0.619322  0.663051\n",
      "10  0.586441  0.620000  0.660339\n",
      "12  0.583051  0.595593  0.658983\n",
      "14  0.582034  0.591525  0.654237\n",
      "16  0.582373  0.595593  0.647797\n",
      "18  0.578305  0.584746  0.640339\n",
      "20  0.578983  0.572203  0.646780\n",
      "22  0.574576  0.569153  0.640339\n",
      "24  0.572542  0.566102  0.637627\n",
      "26  0.573559  0.558305  0.640000\n",
      "28  0.569153  0.567458  0.628814\n",
      "30  0.564407  0.553220  0.629492\n"
     ]
    }
   ],
   "source": [
    "df2 = pd.DataFrame(zip(avgknn.values(), avgdt.values(), avgnn.values()), index=range(0,31,2), columns=('KNN', 'DT', 'NN') )\n",
    "print(df2)"
   ]
  },
  {
   "cell_type": "code",
   "execution_count": 31,
   "metadata": {},
   "outputs": [
    {
     "data": {
      "image/png": "[encoded data removed]",
      "text/plain": [
       "<Figure size 1080x504 with 1 Axes>"
      ]
     },
     "metadata": {
      "needs_background": "light"
     },
     "output_type": "display_data"
    }
   ],
   "source": [
    "import matplotlib.pyplot as plt\n",
    "\n",
    "fig, axes = plt.subplots(figsize=(15,7))\n",
    "axes.plot(range(0,31,2), df2['KNN'], label = 'KNN', marker = 'o')\n",
    "axes.plot(range(0,31,2), df2['DT'], label = 'Decision Tree', marker = 'o')\n",
    "axes.plot(range(0,31,2), df2['NN'], label = 'Neural Network', marker = 'o')\n",
    "plt.xlabel(\"Noise percentage\")\n",
    "plt.ylabel(\"Accuracy\")\n",
    "plt.legend()\n",
    "plt.show()\n"
   ]
  },
  {
   "cell_type": "markdown",
   "metadata": {},
   "source": [
    "   ## Taks 3 [Justification]"
   ]
  },
  {
   "cell_type": "markdown",
   "metadata": {},
   "source": [
    "Write 400 words (maximum) reflection on the results. You are expected to cover the following:\n",
    "• Interpretation/explanation of the experiments and results in Task 1 and Task 2.\n",
    "• Divide your reflection to two subsections (Task 1 and Task 2).\n",
    "• Reflection on the results, advantages and limitation of the methods used.\n",
    "• Possible improvements."
   ]
  },
  {
   "cell_type": "markdown",
   "metadata": {},
   "source": [
    "# Answer\n",
    "\n",
    "In Task 1, we have defined our own function “distance_cw2” and with the help of that tested the accuracy of prediction using KNN along with other distance functions like “Eucledian”, “Manhattan” and “Chebyshev”. We have used 10 fold cross validation of the data with k values of 1, 3, 5 and 7. In this experiment we noticed that the accuracy for all 4 distance functions were almost same at k=1 and then increased for “Chebyshev”, “Eucledian” and “Manhattan” whereas reduced for “distance_cw2” at k=3, then at k=5 and 7 the accuracy went down after slight improvement at k=5. With the first 3 distance functions the accuracy almost remained same or increased a little after k=3.\n",
    "\n",
    "In Task 2, we generated noise from 0%-30% with increment of 2% in the training data and we tested with the test data with a repetition of 50 times and evaluated the performance of KNN, DT and NN. In the experiment we have noticed that with increased noise the accuracy have been reduced for all 3 algorithms, however, with increased noise the algorithm whose accuracy had been affected most is “Decision Tree” whereas the accuracy of “Neural Network” and “KNN” had been reduced by little. \n",
    "\n",
    "From these experiments we can say that as per task 1 we have good results for “Chebyshev”, “Eucledian” and “Manhattan” with increased k values whereas user defined function did not perform well compared to other functions. So, in this scenario we can use any of the default distance functions. In Task 2 , we noticed that noisy data does not affect much the Neural Network alogorithms, hence using the same while processing a noisy data would prove better accuracy. It looks Decision Tree has some limitation while processing the noisy data and hence should be avoided in such scenario.\n",
    "\n",
    "We could do the test by taking some of k values in Task 1 to see the optimum k value of each algorithm and to see if the accuracy increases further. \n"
   ]
  }
 ],
 "metadata": {
  "kernelspec": {
   "display_name": "Python 3",
   "language": "python",
   "name": "python3"
  },
  "language_info": {
   "codemirror_mode": {
    "name": "ipython",
    "version": 3
   },
   "file_extension": ".py",
   "mimetype": "text/x-python",
   "name": "python",
   "nbconvert_exporter": "python",
   "pygments_lexer": "ipython3",
   "version": "3.7.6"
  }
 },
 "nbformat": 4,
 "nbformat_minor": 4
}
